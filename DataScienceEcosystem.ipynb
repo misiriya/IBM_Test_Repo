{
 "cells": [
  {
   "cell_type": "markdown",
   "id": "e2a10d77",
   "metadata": {},
   "source": [
    "# Data Science Tools and Ecosystem"
   ]
  },
  {
   "cell_type": "markdown",
   "id": "0ea9b570",
   "metadata": {},
   "source": [
    "This notebook summarizes Data Science Tools and Ecosystem."
   ]
  },
  {
   "cell_type": "markdown",
   "id": "203b7187",
   "metadata": {},
   "source": [
    "Some of the popular languages Data scientists use are:\n",
    "1. Python\n",
    "2. R\n",
    "3. Scala\n",
    "4. SQL\n",
    "5. Java\n",
    "6. C++\n",
    "7. Javascript\n",
    "8. Julia"
   ]
  },
  {
   "cell_type": "markdown",
   "id": "c565dd64",
   "metadata": {},
   "source": [
    "Some of the common libraries used by Data Scientists are as follows:\n",
    "1. Pandas\n",
    "2. NumPy\n",
    "3. scikitLearn\n",
    "4. Tensorflow\n",
    "5. Keras\n",
    "6. matplotlib\n",
    "7. seaborn\n",
    "8. ggplot (R)\n",
    "9. caret (R)\n",
    "10. PyTorch\n",
    "11. Apache Spark\n",
    "12. VEGAS (Scala)\n",
    "13. BigDL (Scala)"
   ]
  },
  {
   "cell_type": "markdown",
   "id": "55856862",
   "metadata": {},
   "source": [
    "__Objectives:__\n",
    "- To list popular Languages used in Data Science\n",
    "- To list popular open source tools used in Data Science\n",
    "- To show arithmetic operations in Python\n",
    "- To show how Hours are converted to minutes in Python\n",
    "- To make a Table in Jupyter Notebook\n",
    "- To create ordered and unordered lists in Jupyter Notebook"
   ]
  },
  {
   "cell_type": "markdown",
   "id": "64ae51be",
   "metadata": {},
   "source": [
    "| Data Science Tools|\n",
    "|--------------------------------------------|\n",
    "|RStudio|\n",
    "|Spyder|\n",
    "|Jupyter|\n",
    "|Apache Zepplin|"
   ]
  },
  {
   "cell_type": "markdown",
   "id": "5f9bb9a4",
   "metadata": {},
   "source": [
    "### Below are a few examples of evaluating arithmetic expressions in Python:"
   ]
  },
  {
   "cell_type": "code",
   "execution_count": 2,
   "id": "79cf8969",
   "metadata": {},
   "outputs": [
    {
     "data": {
      "text/plain": [
       "17"
      ]
     },
     "execution_count": 2,
     "metadata": {},
     "output_type": "execute_result"
    }
   ],
   "source": [
    "#This is a simple arithmetic expression to multiply and sum integers\n",
    "(3*4)+5"
   ]
  },
  {
   "cell_type": "code",
   "execution_count": 7,
   "id": "dd93f533",
   "metadata": {},
   "outputs": [
    {
     "name": "stdout",
     "output_type": "stream",
     "text": [
      "3.3333333333333335 hours\n"
     ]
    }
   ],
   "source": [
    "#This will convert 200 minutes to hours by dividing by 60 and print the result\n",
    "x=200/60\n",
    "print(str(x)+\" hours\")"
   ]
  },
  {
   "cell_type": "markdown",
   "id": "043450d8",
   "metadata": {},
   "source": [
    "## Author\n",
    "Misiriya Shahul Hameed"
   ]
  },
  {
   "cell_type": "code",
   "execution_count": null,
   "id": "f86fc81e",
   "metadata": {},
   "outputs": [],
   "source": []
  }
 ],
 "metadata": {
  "kernelspec": {
   "display_name": "Python 3 (ipykernel)",
   "language": "python",
   "name": "python3"
  },
  "language_info": {
   "codemirror_mode": {
    "name": "ipython",
    "version": 3
   },
   "file_extension": ".py",
   "mimetype": "text/x-python",
   "name": "python",
   "nbconvert_exporter": "python",
   "pygments_lexer": "ipython3",
   "version": "3.9.16"
  }
 },
 "nbformat": 4,
 "nbformat_minor": 5
}
